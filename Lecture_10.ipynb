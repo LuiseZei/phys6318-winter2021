{
 "cells": [
  {
   "cell_type": "markdown",
   "metadata": {},
   "source": [
    "# PHYS6318: Lecture 10"
   ]
  },
  {
   "cell_type": "code",
   "execution_count": 180,
   "metadata": {},
   "outputs": [],
   "source": [
    "%matplotlib inline\n",
    "%config InlineBackend.figure_format='retina'\n",
    "from matplotlib import rcParams\n",
    "rcParams['animation.html'] = 'jshtml'\n",
    "from IPython.display import HTML\n",
    "from matplotlib.animation import FuncAnimation\n",
    "import matplotlib.pyplot as plt\n",
    "import numpy as np\n",
    "import xarray as xr\n",
    "import netCDF4\n",
    "import time\n",
    "import os\n",
    "import glob"
   ]
  },
  {
   "cell_type": "markdown",
   "metadata": {},
   "source": [
    "## Problem Set 3\n",
    "\n",
    "Complete the *Additional Exercise for the Reader* for Exercise 16, 17, 18, 20, 21, 22. On GitHub, starting codes modified from the textbook to support NetCDF output are available.  Each Problem should be submitted in its own Jupyter Notebook (.ipynb) with sufficient visualizations to demonstrate that the program has been completed.\n",
    "\n",
    "### Problem 13  Topographic Steering\n",
    "\n",
    "**Exercise 16** Repeat this exercise with a reduced speed of the ambient geostrophic flow of\n",
    "$U_{geo}$ = 0.05 m/s. This setting corresponds to a pseudo Rossby number, based on\n",
    "the width of the bottom-escarpment zone, of $Ro$ = 0.05, which is half that used\n",
    "before. Explore the topographic steering mechanism for this modified situation and\n",
    "verify whether the wavelength of standing topographic Rossby waves increases or\n",
    "decreases. Because of weaker ambient flow, the reader should double the total simulation time.\n",
    "\n",
    "### Problem 14  Barotropic Instability\n",
    "\n",
    "**Exercise 17** Explore whether the ambient flow field shown in Fig. 6.10 is subtle to the barotropic\n",
    "instability process. Use $L$ = 500 m and $U$ = 0.2 m/s together with a constant Coriolis\n",
    "parameter.\n",
    "\n",
    "### Problem 15  The Wind-Driven Circulation\n",
    "\n",
    "**Exercise 18** Using the bathymetry creator of previous exercises, include a mid-ocean ridge to\n",
    "the bathymetry and explore resultant changes in the dynamical response of the\n",
    "ocean. Explore changes in the circulation for different values of lateral eddy viscosity.\n",
    "\n",
    "### Problem 16 Geostrophic Adjustment\n",
    "\n",
    "**Exercise 20** Repeat this exercise for the southern hemisphere situation with $f = −1\\times 10^{−4}$ s$^{−1}$.\n",
    "Does the model prediction agree with your expectations?\n",
    "\n",
    "### Problem 17  Frontal Instability\n",
    "\n",
    "**Exercise 21** Repeat this exercise for an ocean uniform in density ($\\rho_1 = \\rho_2 = 1028$ kg m$^{-3}$) to\n",
    "explore whether the barotropic instability process alone can produce a similar form\n",
    "of frontal instability. The two-layer version of the shallow-water equations can be\n",
    "adopted for this task, but the reader should avoid division by zero...\n",
    "\n",
    "### Probelm 18 Reduced-Gravity Plumes\n",
    "\n",
    "**Exercise 22** Add a topographic obstacle such as a seamount or a seafloor depression to the\n",
    "bathymetry and explore how reduced-gravity plumes deal with irregular bathymetry."
   ]
  },
  {
   "cell_type": "markdown",
   "metadata": {},
   "source": [
    "## OMB 6.1 The Complete Shallow-Water Equations\n",
    "\n",
    "### 6.1.1 Description\n",
    "\n",
    "See textbook.\n",
    "\n",
    "### 6.1.2 Implementation of the Coriolis Force\n",
    "\n",
    "Procedure:\n",
    "\n",
    "**Step 1:** Predict a first-guess velocity ($u^∗_{j,k}, v^*_{j,k}$) without the Coriolis force but\n",
    "a semi-implicit approach for bottom friction.\n",
    "\n",
    "**Step 2:** Apply the semi-implicit approach (*see Lecture 02*) for the Coriolis force, which leads to\n",
    "the equations:\n",
    "\n",
    "$$\\begin{align}\n",
    "u^{n+1}_{j,k} &= \\left[u^*_{j,k} - \\beta u^n_{j,k} + \\alpha v^n_{j,k}\\right]/ (1+\\beta) \\\\\n",
    "v^{n+1}_{j,k} &= \\left[v^*_{j,k} - \\beta u^n_{j,k} - \\alpha v^n_{j,k}\\right]/ (1+\\beta)\n",
    "\\end{align}\n",
    "$$\n",
    "\n",
    "where $\\alpha = \\Delta t f$ and $\\beta = 0.25 \\alpha^2$.  \n",
    "\n"
   ]
  },
  {
   "cell_type": "markdown",
   "metadata": {},
   "source": [
    "## OMB 6.2 Coastal Kelvin Waves\n",
    "\n",
    "Theory"
   ]
  },
  {
   "cell_type": "markdown",
   "metadata": {},
   "source": [
    "## OMB 6.3 Exercise 15: Coastal Kelvin Waves\n",
    "\n",
    "Exercise\n",
    "\n",
    "**Exercise 15** Repeat this exercise with different values of the Coriolis parameter and total water\n",
    "depth and explore the resultant wave patterns. The reader might also introduce some\n",
    "bottom friction."
   ]
  },
  {
   "cell_type": "markdown",
   "metadata": {},
   "source": [
    "## OMB 6.5 Geostrophic Flow\n",
    "\n",
    "Theory\n"
   ]
  },
  {
   "cell_type": "markdown",
   "metadata": {},
   "source": [
    "## OMB 6.5 Exercise 16: Topographic Steering\n",
    "\n",
    "Exercise\n",
    "\n",
    "Problem 13"
   ]
  },
  {
   "cell_type": "markdown",
   "metadata": {},
   "source": [
    "## OMB 6.6 Instability of Lateral Shear Flows\n",
    "\n",
    "Theory\n"
   ]
  },
  {
   "cell_type": "markdown",
   "metadata": {},
   "source": [
    "## OMB 6.7 Exercise 17: Barotropic Instability\n",
    "\n",
    "Exercise\n",
    "\n",
    "Problem 14"
   ]
  },
  {
   "cell_type": "markdown",
   "metadata": {},
   "source": [
    "## OMB 6.8 The Wind-Driven Circulation of the Ocean\n",
    "\n",
    "Theory"
   ]
  },
  {
   "cell_type": "markdown",
   "metadata": {},
   "source": [
    "## OMB 6.9 Exercise 18: The Wind-Driven Circulation\n",
    "\n",
    "Exercise\n",
    "\n",
    "Problem 15\n"
   ]
  },
  {
   "cell_type": "markdown",
   "metadata": {},
   "source": [
    "## ~~OMB 6.10 Exercise 19: Baroclinic Compensation~~\n",
    "\n",
    "~~Exercise~~"
   ]
  },
  {
   "cell_type": "markdown",
   "metadata": {},
   "source": [
    "## ~~OMB 6.11 The Reduced-Gravity Concept~~\n",
    "\n",
    "~~Theory~~"
   ]
  },
  {
   "cell_type": "markdown",
   "metadata": {},
   "source": [
    "## OMB 6.12 Geostrophic Adjustment of a Density Front\n",
    "\n",
    "Theory"
   ]
  },
  {
   "cell_type": "markdown",
   "metadata": {},
   "source": [
    "## OMB 6.13 Exercise 20: Geostrophic Adjustment\n",
    "\n",
    "Exercise\n",
    "\n",
    "Problem 16"
   ]
  },
  {
   "cell_type": "markdown",
   "metadata": {},
   "source": [
    "## OMB 6.14 Baroclinic Instability\n",
    "\n",
    "Theory"
   ]
  },
  {
   "cell_type": "markdown",
   "metadata": {},
   "source": [
    "## OMB 6.15 Exercise 21: Frontal Instability\n",
    "\n",
    "Exercise\n",
    "\n",
    "Problem 17"
   ]
  },
  {
   "cell_type": "markdown",
   "metadata": {},
   "source": [
    "## OMB 6.16 Density-Driven Flows\n",
    "\n",
    "Theory"
   ]
  },
  {
   "cell_type": "markdown",
   "metadata": {},
   "source": [
    "## OMB 6.17 Exercise 22: Reduced-Gravity Plumes\n",
    "\n",
    "Exercise\n",
    "\n",
    "Problem 18"
   ]
  }
 ],
 "metadata": {
  "kernelspec": {
   "display_name": "Python 3",
   "language": "python",
   "name": "python3"
  },
  "language_info": {
   "codemirror_mode": {
    "name": "ipython",
    "version": 3
   },
   "file_extension": ".py",
   "mimetype": "text/x-python",
   "name": "python",
   "nbconvert_exporter": "python",
   "pygments_lexer": "ipython3",
   "version": "3.8.6"
  }
 },
 "nbformat": 4,
 "nbformat_minor": 4
}
