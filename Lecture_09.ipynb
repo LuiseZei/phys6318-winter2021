{
 "cells": [
  {
   "cell_type": "markdown",
   "metadata": {},
   "source": [
    "# PHYS6318: Lecture 8"
   ]
  },
  {
   "cell_type": "code",
   "execution_count": 180,
   "metadata": {},
   "outputs": [],
   "source": [
    "%matplotlib inline\n",
    "%config InlineBackend.figure_format='retina'\n",
    "from matplotlib import rcParams\n",
    "rcParams['animation.html'] = 'jshtml'\n",
    "from IPython.display import HTML\n",
    "from matplotlib.animation import FuncAnimation\n",
    "import matplotlib.pyplot as plt\n",
    "import numpy as np\n",
    "import xarray as xr\n",
    "import netCDF4\n",
    "import time\n",
    "import os\n",
    "import glob"
   ]
  },
  {
   "cell_type": "markdown",
   "metadata": {},
   "source": [
    "## OMB 5.10 Exercise 14: Island Wakes"
   ]
  },
  {
   "cell_type": "markdown",
   "metadata": {},
   "source": [
    "### 5.10.1 Aim\n",
    "The aim of this exercise is to simulate turbulent wakes produced by horizontal flows\n",
    "around an island. This includes implementations of both lateral friction and lateral\n",
    "momentum diffusion in the shallow-water model."
   ]
  },
  {
   "cell_type": "markdown",
   "metadata": {},
   "source": [
    "### 5.10.2 The Reynolds Number\n",
    "\n",
    "The ratio between the nonlinear terms and the diffusion of momentum is call the *Reynolds number* and can be defined by:\n",
    "\n",
    "$$Re = \\frac{UL}{A_h} $$\n",
    "\n",
    "where $U$ is the speed of the incident flow, $L$ is the diameter of the obstacle, and $A_h$\n",
    "is ambient horizontal eddy viscosity\n",
    "\n",
    "For small values of $Re \\approx 1$, the flow is laminar.  For larger values ($Re \\gg 100$), a tubulent wake with a organized pattern of *von Karman vortices* shedding at a frequency.  We investigate that phenomenom here."
   ]
  },
  {
   "cell_type": "markdown",
   "metadata": {},
   "source": [
    "### 5.10.3 Inclusion of Lateral Friction and Momentum Diffusion\n",
    "\n",
    "To simulate the development of turbulent wakes in the lee of a obstacle, we need lateral friction and the diffusion of momentum.  Assuming uniform lateral eddy viscosity $A_h$, the depth averaged version of the lateral momentum equation is\n",
    "\n",
    "$$\\begin{align}\n",
    "\\mbox{div}_h (u) &= \\frac{A_h}{h} \\left\\{ \\frac{\\partial}{\\partial x}\\left(h \\frac{\\partial u }{\\partial x}\\right)  + \\frac{\\partial}{\\partial y}\\left(h \\frac{\\partial u }{\\partial y}\\right)\\right\\} \\\\\n",
    "\\mbox{div}_h (v) &= \\frac{A_h}{h} \\left\\{ \\frac{\\partial}{\\partial x}\\left(h \\frac{\\partial v }{\\partial x}\\right)  + \\frac{\\partial}{\\partial y}\\left(h \\frac{\\partial v }{\\partial y}\\right)\\right\\} \n",
    "\\end{align}$$\n",
    "\n",
    "where $h$ is the layer thickness.\n",
    "\n",
    "The discretized form of diffusion terms are given in equations (OMB 5.35 and 5.35).  See Figure 5.16 for details."
   ]
  },
  {
   "cell_type": "markdown",
   "metadata": {},
   "source": [
    "### 5.10.4 Stability  Criterion for Diffusion Terms\n",
    "\n",
    "For a one-dimensional diffusion equation of the form\n",
    "\n",
    "$$ \\frac{\\partial \\psi}{\\partial t} = A_h \\frac{\\partial^2 \\psi}{\\partial x^2} $$\n",
    "\n",
    "Using an explicit finite-difference formulation leads to a stability criterion:\n",
    "\n",
    "$$ \\Delta t \\le \\frac{(\\Delta x)^2}{A_h} $$\n",
    "\n",
    "We can assume and upper bound on the time step for our momentum equations will be similar to this."
   ]
  },
  {
   "cell_type": "markdown",
   "metadata": {},
   "source": [
    "### 5.10.5 Full-Slip, Semi-Slip and No-Slip Conditions\n",
    "\n",
    "#### Full-slip\n",
    "\n",
    "No shear flow parallel to the coast $\\implies$ no frictional stress imposed at the boundary.  \n",
    "\n",
    "Implemented with $\\hat{n} \\cdot \\nabla \\vec{u} = 0$ (zero-gradient condition) along the boundary. This means that \n",
    "\n",
    "$$ v_{j, k+1} - v_{j,k} = 0 $$\n",
    "\n",
    "across a coastline and gives $v_{\\mbox{coast}} = v_{j, k}$.\n",
    "\n",
    "#### Zero-slip\n",
    "\n",
    "A zero-slip (or no-slip) condition requires at $\\vec{u} = 0$ along the boundaries.  To acheive this, we set the grid point just across a boundary to be anti-parallel to the coastal flow.  This means that\n",
    "\n",
    "$$ v_{j, k+1} = - v_{j,k} = 0 $$\n",
    "\n",
    "across a coastline and gives $v_{\\mbox{coast}} = 0 $\n",
    "\n",
    "#### Semi-slip\n",
    "\n",
    "An intermediate condition called semi-slip gives half the velocity shear compared to the no-slip condition.  In this case, we set the grid point just across a boundary to be zero. This means that\n",
    "\n",
    "$v_{j, k+1} = 0$.  \n",
    "\n",
    "across a coastline and gives $v_{\\mbox{coast}} = 0.5 v_{j,k} $\n",
    "\n",
    "\n",
    "See OMB Fig 5.17 for an illustration.\n"
   ]
  },
  {
   "cell_type": "markdown",
   "metadata": {},
   "source": [
    "### 5.10.6 Task Description\n",
    "\n",
    "Create bathymetry with a 10 km long, 5 km channel that is 10 m deep.  Near the western boundary, place a small hill in the centre of the channel.  The north and south boundaries are closed with a no-slip boundary condition. \n",
    "\n",
    "The west and east boundaries are open, cyclic boundaries meaning any fluid that escapes on one side an reappears on the other side.\n"
   ]
  },
  {
   "cell_type": "code",
   "execution_count": 3,
   "metadata": {},
   "outputs": [],
   "source": [
    "nx = 101\n",
    "ny = 51\n",
    "dx = 100 # m\n",
    "dy = 100 # m\n",
    "dt = 3 # s"
   ]
  },
  {
   "cell_type": "markdown",
   "metadata": {},
   "source": [
    "Force the model with a westerly (eastward) wind with $\\tau^{\\mbox{wind}}_x = 0.2$ Pa. This will result in a flow speed of about 0.5 m/s.\n",
    "\n",
    "Use the TVD Superbee scheme for advection of any property.  "
   ]
  },
  {
   "cell_type": "markdown",
   "metadata": {},
   "source": [
    "We will introduce a point source of an Eulerian tracer concentration at the western boundary for visualization of the flow dynamics.  Unlike the dynamical variables ($u$, $v$, $\\eta$) the Eulerian tracer is allowed to dissappear through the eastern boundary using a zero-gradient condition."
   ]
  },
  {
   "cell_type": "markdown",
   "metadata": {},
   "source": [
    "### 5.10.7 Sample Code\n",
    "\n",
    "See `src/OMB_Ex14` for version with NetCDF output."
   ]
  },
  {
   "cell_type": "markdown",
   "metadata": {},
   "source": [
    "## Visualization routine from previous lecture"
   ]
  },
  {
   "cell_type": "markdown",
   "metadata": {},
   "source": [
    "#### Transport"
   ]
  },
  {
   "cell_type": "code",
   "execution_count": 156,
   "metadata": {},
   "outputs": [],
   "source": [
    "def calc_transport(u, v, h):\n",
    "    \n",
    "    nx, ny = u.shape\n",
    "    uh = np.zeros_like(u)\n",
    "    vh = np.zeros_like(v)\n",
    "    \n",
    "    for j in range(1, ny-1): \n",
    "        for k in range(1, nx-1):\n",
    "            uh[k, j] = u[k, j]*0.5*(h[k,j] + h[k+1, j])\n",
    "            vh[k, j] = v[k, j]*0.5*(h[k,j] + h[k, j+1])\n",
    "\n",
    "    return uh, vh"
   ]
  },
  {
   "cell_type": "code",
   "execution_count": 157,
   "metadata": {},
   "outputs": [],
   "source": [
    "def animate_transport(filename):\n",
    "    ds = xr.open_dataset(filename)\n",
    "    fig, ax = plt.subplots(figsize=(8,4))\n",
    "\n",
    "    # show time in units of days\n",
    "    t = (ds.time - ds.time[0]).values / np.timedelta64(1, 'D')\n",
    "\n",
    "    ax.contour(ds.xh/1e3, ds.yh/1e3, ds.h[0].T, colors='k', linewidths=0.5)\n",
    "    \n",
    "    # compute grid centres\n",
    "    xu, yu = np.meshgrid(ds.xu, ds.yu)\n",
    "    xv, yv = np.meshgrid(ds.xv, ds.yv)\n",
    "    xc = 0.5*(xu + xv)\n",
    "    yc = 0.5*(yu + yv)\n",
    "    \n",
    "    uh, vh = calc_transport(ds.u[0].values, ds.v[0].values, ds.h[0].values)\n",
    "    \n",
    "    q = ax.quiver(xc[::3, ::3]/1e3,\n",
    "                  yc[::3, ::3]/1e3, \n",
    "                  uh[::3, ::3].T, \n",
    "                  vh[::3 ,::3].T, \n",
    "                  scale=70)\n",
    "    text = ax.text(4, 5.3, f'time= {t[0]:.0f} days')\n",
    "\n",
    "    def init():\n",
    "        #ax.set_title('Transport')\n",
    "        ax.set_xlabel('x (km)')\n",
    "        ax.set_ylabel('y (km)')\n",
    "        \n",
    "        return q, text\n",
    "    \n",
    "    def update(frame):\n",
    "\n",
    "        uh, vh = calc_transport(ds.u[frame].values, ds.v[frame].values, ds.h[frame].values)\n",
    "        \n",
    "        q.set_UVC(uh[::3, ::3].T, vh[::3, ::3].T)\n",
    "        text.set_text(f'time= {t[frame]:.1f} days')\n",
    "        \n",
    "        return q, text\n",
    "    \n",
    "        \n",
    "    anim = FuncAnimation(fig, update, blit=True,\n",
    "                         init_func=init,\n",
    "                         #frames=len(ds.time),\n",
    "                         frames=np.arange(0, len(ds.time), 10),\n",
    "                        )\n",
    "    plt.close(fig)\n",
    "    \n",
    "    return anim\n"
   ]
  },
  {
   "cell_type": "markdown",
   "metadata": {},
   "source": [
    "### 5.10.8 Results"
   ]
  },
  {
   "cell_type": "markdown",
   "metadata": {},
   "source": [
    "#### Case 1: low Reynolds number\n",
    "\n",
    "$$ A_h = 2.5\\;\\mbox{m}^2/\\mbox{s} $$\n",
    "\n",
    "With the prescribed wind, the flow is about $U = 0.5\\;\\mbox{m}/\\mbox{s}$ and the diameter of the island is $L = 300\\;\\mbox{m}$.  So the Reynolds number is\n",
    "\n",
    "$$Re = \\frac{UL}{A_h} = \\frac{(0.5)(300)}{2.5} = 60$$\n"
   ]
  },
  {
   "cell_type": "code",
   "execution_count": 190,
   "metadata": {},
   "outputs": [],
   "source": [
    "filename = 'src/OMB_Ex14/output_60.nc'\n",
    "anim = animate_transport(filename)"
   ]
  },
  {
   "cell_type": "code",
   "execution_count": 187,
   "metadata": {},
   "outputs": [],
   "source": [
    "moviefile = 'Lecture09_mov1.mp4'\n",
    "anim.save(moviefile, writer='ffmpeg', fps=5, dpi=300)"
   ]
  },
  {
   "cell_type": "code",
   "execution_count": 188,
   "metadata": {},
   "outputs": [
    {
     "data": {
      "text/html": [
       "<center><video controls autoplay src=\"Lecture09_mov1.mp4\" width=100%/></center>"
      ],
      "text/plain": [
       "<IPython.core.display.HTML object>"
      ]
     },
     "execution_count": 188,
     "metadata": {},
     "output_type": "execute_result"
    }
   ],
   "source": [
    "HTML(f'<center><video controls autoplay src=\"{moviefile}\" width=100%/></center>')"
   ]
  },
  {
   "cell_type": "code",
   "execution_count": 216,
   "metadata": {},
   "outputs": [],
   "source": [
    "def animate_flow(filename, variable='T'):\n",
    "    ds = xr.open_dataset(filename)\n",
    "    fig, ax = plt.subplots(figsize=(12,5))\n",
    "\n",
    "    # show time in units of days\n",
    "    t = (ds.time - ds.time[0]).values / np.timedelta64(1, 'h')\n",
    "\n",
    "    ax.contour(ds.xh/1e3, ds.yh/1e3, ds.h[0].T, colors='k', linewidths=0.5)\n",
    "    \n",
    "    xh, yh = np.meshgrid(ds.xh, ds.yh)\n",
    "    \n",
    "    # compute grid centres\n",
    "    xu, yu = np.meshgrid(ds.xu, ds.yu)\n",
    "    xv, yv = np.meshgrid(ds.xv, ds.yv)\n",
    "    xc = 0.5*(xu + xv)\n",
    "    yc = 0.5*(yu + yv)\n",
    "    \n",
    "    uh, vh = calc_transport(ds.u[0].values, ds.v[0].values, ds.h[0].values)\n",
    "    \n",
    "    pmesh = ax.pcolormesh(xh/1e3, yh/1e3, ds[variable][0].T, \n",
    "                      vmin=0, vmax=1,\n",
    "                     shading='gouraud')\n",
    "    \n",
    "    q = ax.quiver(xc[::3, ::3]/1e3,\n",
    "                  yc[::3, ::3]/1e3, \n",
    "                  uh[::3, ::3].T, \n",
    "                  vh[::3 ,::3].T, \n",
    "                  scale=70)\n",
    "    \n",
    "    fig.colorbar(pmesh, ax=ax)\n",
    "    \n",
    "    text = ax.text(4, 5.3, f'time= {t[0]:.0f} hour(s)')\n",
    "\n",
    "    def init():\n",
    "        \n",
    "        \n",
    "        ax.set_xlabel('x (km)')\n",
    "        ax.set_ylabel('y (km)')\n",
    "        ax.set_xlim(0, 10)\n",
    "        \n",
    "        return q, text, pmesh\n",
    "    \n",
    "    def update(frame):\n",
    "\n",
    "        pmesh.set_array(ds[variable][frame].values.T.flatten())\n",
    "        uh, vh = calc_transport(ds.u[frame].values, ds.v[frame].values, ds.h[frame].values)\n",
    "        \n",
    "        q.set_UVC(uh[::3, ::3].T, vh[::3, ::3].T)\n",
    "        text.set_text(f'time= {t[frame]:.1f} hour(s)')\n",
    "        \n",
    "        return q, text, pmesh\n",
    "    \n",
    "        \n",
    "    anim = FuncAnimation(fig, update, blit=True,\n",
    "                         init_func=init,\n",
    "                         #frames=np.arange(0, len(ds.time), 10),\n",
    "                         frames=len(ds.time),\n",
    "                        )\n",
    "    plt.close(fig)\n",
    "    \n",
    "    return anim"
   ]
  },
  {
   "cell_type": "code",
   "execution_count": 220,
   "metadata": {},
   "outputs": [
    {
     "data": {
      "text/html": [
       "<center><video controls autoplay src=\"Lecture09_mov2.mp4\" width=100%/></center>"
      ],
      "text/plain": [
       "<IPython.core.display.HTML object>"
      ]
     },
     "execution_count": 220,
     "metadata": {},
     "output_type": "execute_result"
    }
   ],
   "source": [
    "filename = 'src/OMB_Ex14/output_60.nc'\n",
    "anim = animate_flow(filename)\n",
    "\n",
    "moviefile = 'Lecture09_mov2.mp4'\n",
    "anim.save(moviefile, writer='ffmpeg', fps=10, dpi=200)\n",
    "\n",
    "HTML(f'<center><video controls autoplay src=\"{moviefile}\" width=100%/></center>')"
   ]
  },
  {
   "cell_type": "markdown",
   "metadata": {},
   "source": [
    "#### Case 2: moderate Reynolds number\n",
    "\n",
    "$$ A_h = 1.0\\;\\mbox{m}^2/\\mbox{s} $$\n",
    "\n",
    "With the prescribed wind, the flow is about $U = 0.5\\;\\mbox{m}/\\mbox{s}$ and the diameter of the island is $L = 300\\;\\mbox{m}$.  So the Reynolds number is\n",
    "\n",
    "$$Re = \\frac{UL}{A_h} = \\frac{(0.5)(300)}{1.0} = 150$$\n"
   ]
  },
  {
   "cell_type": "code",
   "execution_count": 192,
   "metadata": {},
   "outputs": [
    {
     "data": {
      "text/html": [
       "<center><video controls autoplay src=\"Lecture09_mov3.mp4\" width=100%/></center>"
      ],
      "text/plain": [
       "<IPython.core.display.HTML object>"
      ]
     },
     "execution_count": 192,
     "metadata": {},
     "output_type": "execute_result"
    }
   ],
   "source": [
    "filename = 'src/OMB_Ex14/output_150.nc'\n",
    "anim = animate_flow(filename)\n",
    "\n",
    "moviefile = 'Lecture09_mov3.mp4'\n",
    "anim.save(moviefile, writer='ffmpeg', fps=10, dpi=300)\n",
    "\n",
    "HTML(f'<center><video controls autoplay src=\"{moviefile}\" width=100%/></center>')"
   ]
  },
  {
   "cell_type": "markdown",
   "metadata": {},
   "source": [
    "#### Case 3: larger Reynolds number\n",
    "\n",
    "$$ A_h = 0.5\\;\\mbox{m}^2/\\mbox{s} $$\n",
    "\n",
    "With the prescribed wind, the flow is about $U = 0.5\\;\\mbox{m}/\\mbox{s}$ and the diameter of the island is $L = 300\\;\\mbox{m}$.  So the Reynolds number is\n",
    "\n",
    "$$Re = \\frac{UL}{A_h} = \\frac{(0.5)(300)}{0.5} = 300$$\n"
   ]
  },
  {
   "cell_type": "code",
   "execution_count": 193,
   "metadata": {},
   "outputs": [
    {
     "data": {
      "text/html": [
       "<center><video controls autoplay src=\"Lecture09_mov4.mp4\" width=100%/></center>"
      ],
      "text/plain": [
       "<IPython.core.display.HTML object>"
      ]
     },
     "execution_count": 193,
     "metadata": {},
     "output_type": "execute_result"
    }
   ],
   "source": [
    "filename = 'src/OMB_Ex14/output_300.nc'\n",
    "anim = animate_flow(filename)\n",
    "\n",
    "moviefile = 'Lecture09_mov4.mp4'\n",
    "anim.save(moviefile, writer='ffmpeg', fps=10, dpi=300)\n",
    "\n",
    "HTML(f'<center><video controls autoplay src=\"{moviefile}\" width=100%/></center>')"
   ]
  },
  {
   "cell_type": "markdown",
   "metadata": {},
   "source": [
    "Compare t=30 hours between Case 2 and Case 3"
   ]
  }
 ],
 "metadata": {
  "kernelspec": {
   "display_name": "Python 3",
   "language": "python",
   "name": "python3"
  },
  "language_info": {
   "codemirror_mode": {
    "name": "ipython",
    "version": 3
   },
   "file_extension": ".py",
   "mimetype": "text/x-python",
   "name": "python",
   "nbconvert_exporter": "python",
   "pygments_lexer": "ipython3",
   "version": "3.8.6"
  }
 },
 "nbformat": 4,
 "nbformat_minor": 4
}
